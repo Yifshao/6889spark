{
  "nbformat": 4,
  "nbformat_minor": 0,
  "metadata": {
    "colab": {
      "name": "get_stock_prices.ipynb",
      "provenance": [],
      "collapsed_sections": [],
      "authorship_tag": "ABX9TyPU5V8V+7uV8vv6Lzq/3tqF",
      "include_colab_link": true
    },
    "kernelspec": {
      "name": "python3",
      "display_name": "Python 3"
    },
    "language_info": {
      "name": "python"
    }
  },
  "cells": [
    {
      "cell_type": "markdown",
      "metadata": {
        "id": "view-in-github",
        "colab_type": "text"
      },
      "source": [
        "<a href=\"https://colab.research.google.com/github/Yifshao/6889spark/blob/main/get_stock_price/get_stock_prices.ipynb\" target=\"_parent\"><img src=\"https://colab.research.google.com/assets/colab-badge.svg\" alt=\"Open In Colab\"/></a>"
      ]
    },
    {
      "cell_type": "code",
      "execution_count": 1,
      "metadata": {
        "colab": {
          "base_uri": "https://localhost:8080/"
        },
        "id": "iEloz_8PpJWy",
        "outputId": "b05a9d0f-fede-46c5-c5c2-a23690d06bb4"
      },
      "outputs": [
        {
          "output_type": "stream",
          "name": "stdout",
          "text": [
            "Mounted at /content/gdrive\n"
          ]
        }
      ],
      "source": [
        "# This must be run within a Google Colab environment \n",
        "from google.colab import drive\n",
        "drive.mount('/content/gdrive')"
      ]
    },
    {
      "cell_type": "code",
      "source": [
        "import sys\n",
        "import os\n",
        "\n",
        "sys.path.append('/content/gdrive/ELEN6889')\n",
        "\n",
        "os.chdir(\"/content/gdrive/My Drive/ELEN6889\")"
      ],
      "metadata": {
        "id": "7Jwi_WSVpQgf"
      },
      "execution_count": 2,
      "outputs": []
    },
    {
      "cell_type": "code",
      "source": [
        "pip install yfinance"
      ],
      "metadata": {
        "colab": {
          "base_uri": "https://localhost:8080/"
        },
        "id": "fKFy6lnPqQ8g",
        "outputId": "f6406e4f-2010-4566-89a9-e0f2644b2025"
      },
      "execution_count": 3,
      "outputs": [
        {
          "output_type": "stream",
          "name": "stdout",
          "text": [
            "Collecting yfinance\n",
            "  Downloading yfinance-0.1.70-py2.py3-none-any.whl (26 kB)\n",
            "Requirement already satisfied: multitasking>=0.0.7 in /usr/local/lib/python3.7/dist-packages (from yfinance) (0.0.10)\n",
            "Requirement already satisfied: pandas>=0.24.0 in /usr/local/lib/python3.7/dist-packages (from yfinance) (1.3.5)\n",
            "Collecting requests>=2.26\n",
            "  Downloading requests-2.27.1-py2.py3-none-any.whl (63 kB)\n",
            "\u001b[K     |████████████████████████████████| 63 kB 1.5 MB/s \n",
            "\u001b[?25hCollecting lxml>=4.5.1\n",
            "  Downloading lxml-4.8.0-cp37-cp37m-manylinux_2_17_x86_64.manylinux2014_x86_64.manylinux_2_24_x86_64.whl (6.4 MB)\n",
            "\u001b[K     |████████████████████████████████| 6.4 MB 14.8 MB/s \n",
            "\u001b[?25hRequirement already satisfied: numpy>=1.15 in /usr/local/lib/python3.7/dist-packages (from yfinance) (1.21.6)\n",
            "Requirement already satisfied: pytz>=2017.3 in /usr/local/lib/python3.7/dist-packages (from pandas>=0.24.0->yfinance) (2022.1)\n",
            "Requirement already satisfied: python-dateutil>=2.7.3 in /usr/local/lib/python3.7/dist-packages (from pandas>=0.24.0->yfinance) (2.8.2)\n",
            "Requirement already satisfied: six>=1.5 in /usr/local/lib/python3.7/dist-packages (from python-dateutil>=2.7.3->pandas>=0.24.0->yfinance) (1.15.0)\n",
            "Requirement already satisfied: charset-normalizer~=2.0.0 in /usr/local/lib/python3.7/dist-packages (from requests>=2.26->yfinance) (2.0.12)\n",
            "Requirement already satisfied: idna<4,>=2.5 in /usr/local/lib/python3.7/dist-packages (from requests>=2.26->yfinance) (2.10)\n",
            "Requirement already satisfied: urllib3<1.27,>=1.21.1 in /usr/local/lib/python3.7/dist-packages (from requests>=2.26->yfinance) (1.24.3)\n",
            "Requirement already satisfied: certifi>=2017.4.17 in /usr/local/lib/python3.7/dist-packages (from requests>=2.26->yfinance) (2021.10.8)\n",
            "Installing collected packages: requests, lxml, yfinance\n",
            "  Attempting uninstall: requests\n",
            "    Found existing installation: requests 2.23.0\n",
            "    Uninstalling requests-2.23.0:\n",
            "      Successfully uninstalled requests-2.23.0\n",
            "  Attempting uninstall: lxml\n",
            "    Found existing installation: lxml 4.2.6\n",
            "    Uninstalling lxml-4.2.6:\n",
            "      Successfully uninstalled lxml-4.2.6\n",
            "\u001b[31mERROR: pip's dependency resolver does not currently take into account all the packages that are installed. This behaviour is the source of the following dependency conflicts.\n",
            "google-colab 1.0.0 requires requests~=2.23.0, but you have requests 2.27.1 which is incompatible.\n",
            "datascience 0.10.6 requires folium==0.2.1, but you have folium 0.8.3 which is incompatible.\u001b[0m\n",
            "Successfully installed lxml-4.8.0 requests-2.27.1 yfinance-0.1.70\n"
          ]
        }
      ]
    },
    {
      "cell_type": "code",
      "source": [
        "from get_stock_price import get_stock"
      ],
      "metadata": {
        "id": "GXZy2ixhp67O"
      },
      "execution_count": 4,
      "outputs": []
    },
    {
      "cell_type": "markdown",
      "source": [
        "默认读取近60个交易日数据。以五分钟为间隔"
      ],
      "metadata": {
        "id": "CSENWj8vyRbS"
      }
    },
    {
      "cell_type": "code",
      "source": [
        "APPLE = get_stock('AAPL')"
      ],
      "metadata": {
        "colab": {
          "base_uri": "https://localhost:8080/"
        },
        "id": "9GjacuqMqWBY",
        "outputId": "e8715210-d51d-44d7-f357-ffd19e8ee028"
      },
      "execution_count": 5,
      "outputs": [
        {
          "output_type": "stream",
          "name": "stdout",
          "text": [
            "\r[*********************100%***********************]  1 of 1 completed\n"
          ]
        }
      ]
    },
    {
      "cell_type": "code",
      "source": [
        "APPLE"
      ],
      "metadata": {
        "colab": {
          "base_uri": "https://localhost:8080/",
          "height": 455
        },
        "id": "erFX6FAhQBU_",
        "outputId": "7b4b8614-6184-4989-b6f6-a576a442f6b3"
      },
      "execution_count": 6,
      "outputs": [
        {
          "output_type": "execute_result",
          "data": {
            "text/plain": [
              "                                Close   Adj Close\n",
              "Datetime                                         \n",
              "2022-02-07 09:30:00-05:00  172.814301  172.814301\n",
              "2022-02-07 09:35:00-05:00  173.149994  173.149994\n",
              "2022-02-07 09:40:00-05:00  173.490005  173.490005\n",
              "2022-02-07 09:45:00-05:00  172.945007  172.945007\n",
              "2022-02-07 09:50:00-05:00  173.729996  173.729996\n",
              "...                               ...         ...\n",
              "2022-05-03 15:40:00-04:00  158.910004  158.910004\n",
              "2022-05-03 15:45:00-04:00  158.899994  158.899994\n",
              "2022-05-03 15:50:00-04:00  159.330002  159.330002\n",
              "2022-05-03 15:55:00-04:00  159.479996  159.479996\n",
              "2022-05-03 16:00:00-04:00  159.479996  159.479996\n",
              "\n",
              "[4681 rows x 2 columns]"
            ],
            "text/html": [
              "\n",
              "  <div id=\"df-f50cf876-2dd5-404f-9c46-4125dd5befb1\">\n",
              "    <div class=\"colab-df-container\">\n",
              "      <div>\n",
              "<style scoped>\n",
              "    .dataframe tbody tr th:only-of-type {\n",
              "        vertical-align: middle;\n",
              "    }\n",
              "\n",
              "    .dataframe tbody tr th {\n",
              "        vertical-align: top;\n",
              "    }\n",
              "\n",
              "    .dataframe thead th {\n",
              "        text-align: right;\n",
              "    }\n",
              "</style>\n",
              "<table border=\"1\" class=\"dataframe\">\n",
              "  <thead>\n",
              "    <tr style=\"text-align: right;\">\n",
              "      <th></th>\n",
              "      <th>Close</th>\n",
              "      <th>Adj Close</th>\n",
              "    </tr>\n",
              "    <tr>\n",
              "      <th>Datetime</th>\n",
              "      <th></th>\n",
              "      <th></th>\n",
              "    </tr>\n",
              "  </thead>\n",
              "  <tbody>\n",
              "    <tr>\n",
              "      <th>2022-02-07 09:30:00-05:00</th>\n",
              "      <td>172.814301</td>\n",
              "      <td>172.814301</td>\n",
              "    </tr>\n",
              "    <tr>\n",
              "      <th>2022-02-07 09:35:00-05:00</th>\n",
              "      <td>173.149994</td>\n",
              "      <td>173.149994</td>\n",
              "    </tr>\n",
              "    <tr>\n",
              "      <th>2022-02-07 09:40:00-05:00</th>\n",
              "      <td>173.490005</td>\n",
              "      <td>173.490005</td>\n",
              "    </tr>\n",
              "    <tr>\n",
              "      <th>2022-02-07 09:45:00-05:00</th>\n",
              "      <td>172.945007</td>\n",
              "      <td>172.945007</td>\n",
              "    </tr>\n",
              "    <tr>\n",
              "      <th>2022-02-07 09:50:00-05:00</th>\n",
              "      <td>173.729996</td>\n",
              "      <td>173.729996</td>\n",
              "    </tr>\n",
              "    <tr>\n",
              "      <th>...</th>\n",
              "      <td>...</td>\n",
              "      <td>...</td>\n",
              "    </tr>\n",
              "    <tr>\n",
              "      <th>2022-05-03 15:40:00-04:00</th>\n",
              "      <td>158.910004</td>\n",
              "      <td>158.910004</td>\n",
              "    </tr>\n",
              "    <tr>\n",
              "      <th>2022-05-03 15:45:00-04:00</th>\n",
              "      <td>158.899994</td>\n",
              "      <td>158.899994</td>\n",
              "    </tr>\n",
              "    <tr>\n",
              "      <th>2022-05-03 15:50:00-04:00</th>\n",
              "      <td>159.330002</td>\n",
              "      <td>159.330002</td>\n",
              "    </tr>\n",
              "    <tr>\n",
              "      <th>2022-05-03 15:55:00-04:00</th>\n",
              "      <td>159.479996</td>\n",
              "      <td>159.479996</td>\n",
              "    </tr>\n",
              "    <tr>\n",
              "      <th>2022-05-03 16:00:00-04:00</th>\n",
              "      <td>159.479996</td>\n",
              "      <td>159.479996</td>\n",
              "    </tr>\n",
              "  </tbody>\n",
              "</table>\n",
              "<p>4681 rows × 2 columns</p>\n",
              "</div>\n",
              "      <button class=\"colab-df-convert\" onclick=\"convertToInteractive('df-f50cf876-2dd5-404f-9c46-4125dd5befb1')\"\n",
              "              title=\"Convert this dataframe to an interactive table.\"\n",
              "              style=\"display:none;\">\n",
              "        \n",
              "  <svg xmlns=\"http://www.w3.org/2000/svg\" height=\"24px\"viewBox=\"0 0 24 24\"\n",
              "       width=\"24px\">\n",
              "    <path d=\"M0 0h24v24H0V0z\" fill=\"none\"/>\n",
              "    <path d=\"M18.56 5.44l.94 2.06.94-2.06 2.06-.94-2.06-.94-.94-2.06-.94 2.06-2.06.94zm-11 1L8.5 8.5l.94-2.06 2.06-.94-2.06-.94L8.5 2.5l-.94 2.06-2.06.94zm10 10l.94 2.06.94-2.06 2.06-.94-2.06-.94-.94-2.06-.94 2.06-2.06.94z\"/><path d=\"M17.41 7.96l-1.37-1.37c-.4-.4-.92-.59-1.43-.59-.52 0-1.04.2-1.43.59L10.3 9.45l-7.72 7.72c-.78.78-.78 2.05 0 2.83L4 21.41c.39.39.9.59 1.41.59.51 0 1.02-.2 1.41-.59l7.78-7.78 2.81-2.81c.8-.78.8-2.07 0-2.86zM5.41 20L4 18.59l7.72-7.72 1.47 1.35L5.41 20z\"/>\n",
              "  </svg>\n",
              "      </button>\n",
              "      \n",
              "  <style>\n",
              "    .colab-df-container {\n",
              "      display:flex;\n",
              "      flex-wrap:wrap;\n",
              "      gap: 12px;\n",
              "    }\n",
              "\n",
              "    .colab-df-convert {\n",
              "      background-color: #E8F0FE;\n",
              "      border: none;\n",
              "      border-radius: 50%;\n",
              "      cursor: pointer;\n",
              "      display: none;\n",
              "      fill: #1967D2;\n",
              "      height: 32px;\n",
              "      padding: 0 0 0 0;\n",
              "      width: 32px;\n",
              "    }\n",
              "\n",
              "    .colab-df-convert:hover {\n",
              "      background-color: #E2EBFA;\n",
              "      box-shadow: 0px 1px 2px rgba(60, 64, 67, 0.3), 0px 1px 3px 1px rgba(60, 64, 67, 0.15);\n",
              "      fill: #174EA6;\n",
              "    }\n",
              "\n",
              "    [theme=dark] .colab-df-convert {\n",
              "      background-color: #3B4455;\n",
              "      fill: #D2E3FC;\n",
              "    }\n",
              "\n",
              "    [theme=dark] .colab-df-convert:hover {\n",
              "      background-color: #434B5C;\n",
              "      box-shadow: 0px 1px 3px 1px rgba(0, 0, 0, 0.15);\n",
              "      filter: drop-shadow(0px 1px 2px rgba(0, 0, 0, 0.3));\n",
              "      fill: #FFFFFF;\n",
              "    }\n",
              "  </style>\n",
              "\n",
              "      <script>\n",
              "        const buttonEl =\n",
              "          document.querySelector('#df-f50cf876-2dd5-404f-9c46-4125dd5befb1 button.colab-df-convert');\n",
              "        buttonEl.style.display =\n",
              "          google.colab.kernel.accessAllowed ? 'block' : 'none';\n",
              "\n",
              "        async function convertToInteractive(key) {\n",
              "          const element = document.querySelector('#df-f50cf876-2dd5-404f-9c46-4125dd5befb1');\n",
              "          const dataTable =\n",
              "            await google.colab.kernel.invokeFunction('convertToInteractive',\n",
              "                                                     [key], {});\n",
              "          if (!dataTable) return;\n",
              "\n",
              "          const docLinkHtml = 'Like what you see? Visit the ' +\n",
              "            '<a target=\"_blank\" href=https://colab.research.google.com/notebooks/data_table.ipynb>data table notebook</a>'\n",
              "            + ' to learn more about interactive tables.';\n",
              "          element.innerHTML = '';\n",
              "          dataTable['output_type'] = 'display_data';\n",
              "          await google.colab.output.renderOutput(dataTable, element);\n",
              "          const docLink = document.createElement('div');\n",
              "          docLink.innerHTML = docLinkHtml;\n",
              "          element.appendChild(docLink);\n",
              "        }\n",
              "      </script>\n",
              "    </div>\n",
              "  </div>\n",
              "  "
            ]
          },
          "metadata": {},
          "execution_count": 6
        }
      ]
    },
    {
      "cell_type": "code",
      "source": [
        "GOOGLE = get_stock('GOOG')"
      ],
      "metadata": {
        "colab": {
          "base_uri": "https://localhost:8080/"
        },
        "id": "FjK9_Fs_yac3",
        "outputId": "bc99eacd-7708-43d6-f97d-30c381b44ff5"
      },
      "execution_count": null,
      "outputs": [
        {
          "output_type": "stream",
          "name": "stdout",
          "text": [
            "\r[*********************100%***********************]  1 of 1 completed\n"
          ]
        }
      ]
    },
    {
      "cell_type": "code",
      "source": [
        "META = get_stock('FB')"
      ],
      "metadata": {
        "colab": {
          "base_uri": "https://localhost:8080/"
        },
        "id": "O88tOzKAytxX",
        "outputId": "881dc24b-6345-4f0d-d227-a2609bce078c"
      },
      "execution_count": null,
      "outputs": [
        {
          "output_type": "stream",
          "name": "stdout",
          "text": [
            "\r[*********************100%***********************]  1 of 1 completed\n"
          ]
        }
      ]
    },
    {
      "cell_type": "code",
      "source": [
        "AMAZON = get_stock('AMZN')"
      ],
      "metadata": {
        "colab": {
          "base_uri": "https://localhost:8080/"
        },
        "id": "lqlj5RAzzZZ2",
        "outputId": "0a9d5fdc-6f67-48d1-fe1f-1b42e9a1f148"
      },
      "execution_count": null,
      "outputs": [
        {
          "output_type": "stream",
          "name": "stdout",
          "text": [
            "\r[*********************100%***********************]  1 of 1 completed\n"
          ]
        }
      ]
    },
    {
      "cell_type": "code",
      "source": [
        "NETFLIX = get_stock('NFLX')"
      ],
      "metadata": {
        "colab": {
          "base_uri": "https://localhost:8080/"
        },
        "id": "VB_TnBnOze2w",
        "outputId": "5c527ae7-812e-48f7-c958-ae676a3e0973"
      },
      "execution_count": null,
      "outputs": [
        {
          "output_type": "stream",
          "name": "stdout",
          "text": [
            "\r[*********************100%***********************]  1 of 1 completed\n"
          ]
        }
      ]
    },
    {
      "cell_type": "code",
      "source": [
        "BOEIN = get_stock('BA')"
      ],
      "metadata": {
        "colab": {
          "base_uri": "https://localhost:8080/"
        },
        "id": "55Bv7YdszqBu",
        "outputId": "7237b43e-2eca-4791-db82-acc92332894b"
      },
      "execution_count": null,
      "outputs": [
        {
          "output_type": "stream",
          "name": "stdout",
          "text": [
            "\r[*********************100%***********************]  1 of 1 completed\n"
          ]
        }
      ]
    },
    {
      "cell_type": "code",
      "source": [
        "UBER = get_stock('UBER')"
      ],
      "metadata": {
        "colab": {
          "base_uri": "https://localhost:8080/"
        },
        "id": "WmNtI2rlzwZn",
        "outputId": "05fa24b0-aff1-4476-a417-c94c90930cb9"
      },
      "execution_count": null,
      "outputs": [
        {
          "output_type": "stream",
          "name": "stdout",
          "text": [
            "\r[*********************100%***********************]  1 of 1 completed\n"
          ]
        }
      ]
    },
    {
      "cell_type": "code",
      "source": [
        "TWITTER = get_stock('TWTR')"
      ],
      "metadata": {
        "colab": {
          "base_uri": "https://localhost:8080/"
        },
        "id": "PNOb4C47z1cQ",
        "outputId": "b56813b3-1d26-4d41-8e75-500e74e8dbfe"
      },
      "execution_count": null,
      "outputs": [
        {
          "output_type": "stream",
          "name": "stdout",
          "text": [
            "\r[*********************100%***********************]  1 of 1 completed\n"
          ]
        }
      ]
    },
    {
      "cell_type": "code",
      "source": [
        "MICROSOFT = get_stock('MSFT')"
      ],
      "metadata": {
        "colab": {
          "base_uri": "https://localhost:8080/"
        },
        "id": "hgsW0bDVz9Tz",
        "outputId": "4a0fc517-a240-4fa0-d658-9c3e848e8d49"
      },
      "execution_count": null,
      "outputs": [
        {
          "output_type": "stream",
          "name": "stdout",
          "text": [
            "\r[*********************100%***********************]  1 of 1 completed\n"
          ]
        }
      ]
    },
    {
      "cell_type": "code",
      "source": [
        "MICROSOFT.to_csv('data_60days/MSFT.csv')"
      ],
      "metadata": {
        "id": "Zk-G8swj0G05"
      },
      "execution_count": null,
      "outputs": []
    },
    {
      "cell_type": "markdown",
      "source": [
        "#几个参数用法"
      ],
      "metadata": {
        "id": "aKI1Bnyu0Jgt"
      }
    },
    {
      "cell_type": "markdown",
      "source": [
        "##interval：改变间隔。目前仅支持5min，15min，30min，1hour。如果后面需要10min我再单独写"
      ],
      "metadata": {
        "id": "FCKaNfDK0RSV"
      }
    },
    {
      "cell_type": "code",
      "source": [
        "TEST = APPLE = get_stock('AAPL',interval = '1h')"
      ],
      "metadata": {
        "colab": {
          "base_uri": "https://localhost:8080/"
        },
        "id": "-ZeamewS0I7M",
        "outputId": "041de4ed-4c88-4740-fe22-8c75d2508b20"
      },
      "execution_count": null,
      "outputs": [
        {
          "output_type": "stream",
          "name": "stdout",
          "text": [
            "\r[*********************100%***********************]  1 of 1 completed\n"
          ]
        }
      ]
    },
    {
      "cell_type": "code",
      "source": [
        "TEST"
      ],
      "metadata": {
        "colab": {
          "base_uri": "https://localhost:8080/",
          "height": 424
        },
        "id": "tHgK0wDI0pGr",
        "outputId": "d4acd4fa-d06a-48fb-b993-8205e7b14c1d"
      },
      "execution_count": null,
      "outputs": [
        {
          "output_type": "execute_result",
          "data": {
            "text/plain": [
              "                                Close   Adj Close\n",
              "2022-01-28 09:30:00-05:00  165.449600  165.449600\n",
              "2022-01-28 10:30:00-05:00  167.899994  167.899994\n",
              "2022-01-28 11:30:00-05:00  168.235794  168.235794\n",
              "2022-01-28 12:30:00-05:00  168.270004  168.270004\n",
              "2022-01-28 13:30:00-05:00  166.945007  166.945007\n",
              "...                               ...         ...\n",
              "2022-04-25 12:30:00-04:00  160.119995  160.119995\n",
              "2022-04-25 13:30:00-04:00  161.010895  161.010895\n",
              "2022-04-25 14:30:00-04:00  162.210007  162.210007\n",
              "2022-04-25 15:30:00-04:00  162.850006  162.850006\n",
              "2022-04-25 16:00:00-04:00  162.880005  162.880005\n",
              "\n",
              "[421 rows x 2 columns]"
            ],
            "text/html": [
              "\n",
              "  <div id=\"df-f15130c5-1845-442e-813f-1eee4b3bb8a1\">\n",
              "    <div class=\"colab-df-container\">\n",
              "      <div>\n",
              "<style scoped>\n",
              "    .dataframe tbody tr th:only-of-type {\n",
              "        vertical-align: middle;\n",
              "    }\n",
              "\n",
              "    .dataframe tbody tr th {\n",
              "        vertical-align: top;\n",
              "    }\n",
              "\n",
              "    .dataframe thead th {\n",
              "        text-align: right;\n",
              "    }\n",
              "</style>\n",
              "<table border=\"1\" class=\"dataframe\">\n",
              "  <thead>\n",
              "    <tr style=\"text-align: right;\">\n",
              "      <th></th>\n",
              "      <th>Close</th>\n",
              "      <th>Adj Close</th>\n",
              "    </tr>\n",
              "  </thead>\n",
              "  <tbody>\n",
              "    <tr>\n",
              "      <th>2022-01-28 09:30:00-05:00</th>\n",
              "      <td>165.449600</td>\n",
              "      <td>165.449600</td>\n",
              "    </tr>\n",
              "    <tr>\n",
              "      <th>2022-01-28 10:30:00-05:00</th>\n",
              "      <td>167.899994</td>\n",
              "      <td>167.899994</td>\n",
              "    </tr>\n",
              "    <tr>\n",
              "      <th>2022-01-28 11:30:00-05:00</th>\n",
              "      <td>168.235794</td>\n",
              "      <td>168.235794</td>\n",
              "    </tr>\n",
              "    <tr>\n",
              "      <th>2022-01-28 12:30:00-05:00</th>\n",
              "      <td>168.270004</td>\n",
              "      <td>168.270004</td>\n",
              "    </tr>\n",
              "    <tr>\n",
              "      <th>2022-01-28 13:30:00-05:00</th>\n",
              "      <td>166.945007</td>\n",
              "      <td>166.945007</td>\n",
              "    </tr>\n",
              "    <tr>\n",
              "      <th>...</th>\n",
              "      <td>...</td>\n",
              "      <td>...</td>\n",
              "    </tr>\n",
              "    <tr>\n",
              "      <th>2022-04-25 12:30:00-04:00</th>\n",
              "      <td>160.119995</td>\n",
              "      <td>160.119995</td>\n",
              "    </tr>\n",
              "    <tr>\n",
              "      <th>2022-04-25 13:30:00-04:00</th>\n",
              "      <td>161.010895</td>\n",
              "      <td>161.010895</td>\n",
              "    </tr>\n",
              "    <tr>\n",
              "      <th>2022-04-25 14:30:00-04:00</th>\n",
              "      <td>162.210007</td>\n",
              "      <td>162.210007</td>\n",
              "    </tr>\n",
              "    <tr>\n",
              "      <th>2022-04-25 15:30:00-04:00</th>\n",
              "      <td>162.850006</td>\n",
              "      <td>162.850006</td>\n",
              "    </tr>\n",
              "    <tr>\n",
              "      <th>2022-04-25 16:00:00-04:00</th>\n",
              "      <td>162.880005</td>\n",
              "      <td>162.880005</td>\n",
              "    </tr>\n",
              "  </tbody>\n",
              "</table>\n",
              "<p>421 rows × 2 columns</p>\n",
              "</div>\n",
              "      <button class=\"colab-df-convert\" onclick=\"convertToInteractive('df-f15130c5-1845-442e-813f-1eee4b3bb8a1')\"\n",
              "              title=\"Convert this dataframe to an interactive table.\"\n",
              "              style=\"display:none;\">\n",
              "        \n",
              "  <svg xmlns=\"http://www.w3.org/2000/svg\" height=\"24px\"viewBox=\"0 0 24 24\"\n",
              "       width=\"24px\">\n",
              "    <path d=\"M0 0h24v24H0V0z\" fill=\"none\"/>\n",
              "    <path d=\"M18.56 5.44l.94 2.06.94-2.06 2.06-.94-2.06-.94-.94-2.06-.94 2.06-2.06.94zm-11 1L8.5 8.5l.94-2.06 2.06-.94-2.06-.94L8.5 2.5l-.94 2.06-2.06.94zm10 10l.94 2.06.94-2.06 2.06-.94-2.06-.94-.94-2.06-.94 2.06-2.06.94z\"/><path d=\"M17.41 7.96l-1.37-1.37c-.4-.4-.92-.59-1.43-.59-.52 0-1.04.2-1.43.59L10.3 9.45l-7.72 7.72c-.78.78-.78 2.05 0 2.83L4 21.41c.39.39.9.59 1.41.59.51 0 1.02-.2 1.41-.59l7.78-7.78 2.81-2.81c.8-.78.8-2.07 0-2.86zM5.41 20L4 18.59l7.72-7.72 1.47 1.35L5.41 20z\"/>\n",
              "  </svg>\n",
              "      </button>\n",
              "      \n",
              "  <style>\n",
              "    .colab-df-container {\n",
              "      display:flex;\n",
              "      flex-wrap:wrap;\n",
              "      gap: 12px;\n",
              "    }\n",
              "\n",
              "    .colab-df-convert {\n",
              "      background-color: #E8F0FE;\n",
              "      border: none;\n",
              "      border-radius: 50%;\n",
              "      cursor: pointer;\n",
              "      display: none;\n",
              "      fill: #1967D2;\n",
              "      height: 32px;\n",
              "      padding: 0 0 0 0;\n",
              "      width: 32px;\n",
              "    }\n",
              "\n",
              "    .colab-df-convert:hover {\n",
              "      background-color: #E2EBFA;\n",
              "      box-shadow: 0px 1px 2px rgba(60, 64, 67, 0.3), 0px 1px 3px 1px rgba(60, 64, 67, 0.15);\n",
              "      fill: #174EA6;\n",
              "    }\n",
              "\n",
              "    [theme=dark] .colab-df-convert {\n",
              "      background-color: #3B4455;\n",
              "      fill: #D2E3FC;\n",
              "    }\n",
              "\n",
              "    [theme=dark] .colab-df-convert:hover {\n",
              "      background-color: #434B5C;\n",
              "      box-shadow: 0px 1px 3px 1px rgba(0, 0, 0, 0.15);\n",
              "      filter: drop-shadow(0px 1px 2px rgba(0, 0, 0, 0.3));\n",
              "      fill: #FFFFFF;\n",
              "    }\n",
              "  </style>\n",
              "\n",
              "      <script>\n",
              "        const buttonEl =\n",
              "          document.querySelector('#df-f15130c5-1845-442e-813f-1eee4b3bb8a1 button.colab-df-convert');\n",
              "        buttonEl.style.display =\n",
              "          google.colab.kernel.accessAllowed ? 'block' : 'none';\n",
              "\n",
              "        async function convertToInteractive(key) {\n",
              "          const element = document.querySelector('#df-f15130c5-1845-442e-813f-1eee4b3bb8a1');\n",
              "          const dataTable =\n",
              "            await google.colab.kernel.invokeFunction('convertToInteractive',\n",
              "                                                     [key], {});\n",
              "          if (!dataTable) return;\n",
              "\n",
              "          const docLinkHtml = 'Like what you see? Visit the ' +\n",
              "            '<a target=\"_blank\" href=https://colab.research.google.com/notebooks/data_table.ipynb>data table notebook</a>'\n",
              "            + ' to learn more about interactive tables.';\n",
              "          element.innerHTML = '';\n",
              "          dataTable['output_type'] = 'display_data';\n",
              "          await google.colab.output.renderOutput(dataTable, element);\n",
              "          const docLink = document.createElement('div');\n",
              "          docLink.innerHTML = docLinkHtml;\n",
              "          element.appendChild(docLink);\n",
              "        }\n",
              "      </script>\n",
              "    </div>\n",
              "  </div>\n",
              "  "
            ]
          },
          "metadata": {},
          "execution_count": 13
        }
      ]
    },
    {
      "cell_type": "markdown",
      "source": [
        "## period: 默认近60个工作日。可以自行输入1-59的整数。"
      ],
      "metadata": {
        "id": "9R2WzKAl0tx6"
      }
    },
    {
      "cell_type": "code",
      "source": [
        "TEST = get_stock('AAPL',period = 59)"
      ],
      "metadata": {
        "colab": {
          "base_uri": "https://localhost:8080/"
        },
        "id": "BD9QrAMq00rK",
        "outputId": "df039549-3f8f-4460-8217-306b5d1aefc9"
      },
      "execution_count": null,
      "outputs": [
        {
          "output_type": "stream",
          "name": "stdout",
          "text": [
            "\r[*********************100%***********************]  1 of 1 completed\n"
          ]
        }
      ]
    },
    {
      "cell_type": "code",
      "source": [
        "TEST"
      ],
      "metadata": {
        "colab": {
          "base_uri": "https://localhost:8080/",
          "height": 455
        },
        "id": "SRnX5Xqj04H8",
        "outputId": "260ac828-9f6b-4885-c39b-fbb303e9a71f"
      },
      "execution_count": null,
      "outputs": [
        {
          "output_type": "execute_result",
          "data": {
            "text/plain": [
              "                                Close   Adj Close\n",
              "Datetime                                         \n",
              "2022-01-14 09:30:00-05:00  171.440002  171.440002\n",
              "2022-01-14 09:35:00-05:00  172.470001  172.470001\n",
              "2022-01-14 09:40:00-05:00  172.670197  172.670197\n",
              "2022-01-14 09:45:00-05:00  172.539902  172.539902\n",
              "2022-01-14 09:50:00-05:00  172.927307  172.927307\n",
              "...                               ...         ...\n",
              "2022-04-08 15:40:00-04:00  170.680801  170.680801\n",
              "2022-04-08 15:45:00-04:00  170.210007  170.210007\n",
              "2022-04-08 15:50:00-04:00  170.050003  170.050003\n",
              "2022-04-08 15:55:00-04:00  170.139999  170.139999\n",
              "2022-04-08 16:00:00-04:00  170.089996  170.089996\n",
              "\n",
              "[4603 rows x 2 columns]"
            ],
            "text/html": [
              "\n",
              "  <div id=\"df-cc8d4b0e-76e8-4e9f-a8bc-a626aa1d5415\">\n",
              "    <div class=\"colab-df-container\">\n",
              "      <div>\n",
              "<style scoped>\n",
              "    .dataframe tbody tr th:only-of-type {\n",
              "        vertical-align: middle;\n",
              "    }\n",
              "\n",
              "    .dataframe tbody tr th {\n",
              "        vertical-align: top;\n",
              "    }\n",
              "\n",
              "    .dataframe thead th {\n",
              "        text-align: right;\n",
              "    }\n",
              "</style>\n",
              "<table border=\"1\" class=\"dataframe\">\n",
              "  <thead>\n",
              "    <tr style=\"text-align: right;\">\n",
              "      <th></th>\n",
              "      <th>Close</th>\n",
              "      <th>Adj Close</th>\n",
              "    </tr>\n",
              "    <tr>\n",
              "      <th>Datetime</th>\n",
              "      <th></th>\n",
              "      <th></th>\n",
              "    </tr>\n",
              "  </thead>\n",
              "  <tbody>\n",
              "    <tr>\n",
              "      <th>2022-01-14 09:30:00-05:00</th>\n",
              "      <td>171.440002</td>\n",
              "      <td>171.440002</td>\n",
              "    </tr>\n",
              "    <tr>\n",
              "      <th>2022-01-14 09:35:00-05:00</th>\n",
              "      <td>172.470001</td>\n",
              "      <td>172.470001</td>\n",
              "    </tr>\n",
              "    <tr>\n",
              "      <th>2022-01-14 09:40:00-05:00</th>\n",
              "      <td>172.670197</td>\n",
              "      <td>172.670197</td>\n",
              "    </tr>\n",
              "    <tr>\n",
              "      <th>2022-01-14 09:45:00-05:00</th>\n",
              "      <td>172.539902</td>\n",
              "      <td>172.539902</td>\n",
              "    </tr>\n",
              "    <tr>\n",
              "      <th>2022-01-14 09:50:00-05:00</th>\n",
              "      <td>172.927307</td>\n",
              "      <td>172.927307</td>\n",
              "    </tr>\n",
              "    <tr>\n",
              "      <th>...</th>\n",
              "      <td>...</td>\n",
              "      <td>...</td>\n",
              "    </tr>\n",
              "    <tr>\n",
              "      <th>2022-04-08 15:40:00-04:00</th>\n",
              "      <td>170.680801</td>\n",
              "      <td>170.680801</td>\n",
              "    </tr>\n",
              "    <tr>\n",
              "      <th>2022-04-08 15:45:00-04:00</th>\n",
              "      <td>170.210007</td>\n",
              "      <td>170.210007</td>\n",
              "    </tr>\n",
              "    <tr>\n",
              "      <th>2022-04-08 15:50:00-04:00</th>\n",
              "      <td>170.050003</td>\n",
              "      <td>170.050003</td>\n",
              "    </tr>\n",
              "    <tr>\n",
              "      <th>2022-04-08 15:55:00-04:00</th>\n",
              "      <td>170.139999</td>\n",
              "      <td>170.139999</td>\n",
              "    </tr>\n",
              "    <tr>\n",
              "      <th>2022-04-08 16:00:00-04:00</th>\n",
              "      <td>170.089996</td>\n",
              "      <td>170.089996</td>\n",
              "    </tr>\n",
              "  </tbody>\n",
              "</table>\n",
              "<p>4603 rows × 2 columns</p>\n",
              "</div>\n",
              "      <button class=\"colab-df-convert\" onclick=\"convertToInteractive('df-cc8d4b0e-76e8-4e9f-a8bc-a626aa1d5415')\"\n",
              "              title=\"Convert this dataframe to an interactive table.\"\n",
              "              style=\"display:none;\">\n",
              "        \n",
              "  <svg xmlns=\"http://www.w3.org/2000/svg\" height=\"24px\"viewBox=\"0 0 24 24\"\n",
              "       width=\"24px\">\n",
              "    <path d=\"M0 0h24v24H0V0z\" fill=\"none\"/>\n",
              "    <path d=\"M18.56 5.44l.94 2.06.94-2.06 2.06-.94-2.06-.94-.94-2.06-.94 2.06-2.06.94zm-11 1L8.5 8.5l.94-2.06 2.06-.94-2.06-.94L8.5 2.5l-.94 2.06-2.06.94zm10 10l.94 2.06.94-2.06 2.06-.94-2.06-.94-.94-2.06-.94 2.06-2.06.94z\"/><path d=\"M17.41 7.96l-1.37-1.37c-.4-.4-.92-.59-1.43-.59-.52 0-1.04.2-1.43.59L10.3 9.45l-7.72 7.72c-.78.78-.78 2.05 0 2.83L4 21.41c.39.39.9.59 1.41.59.51 0 1.02-.2 1.41-.59l7.78-7.78 2.81-2.81c.8-.78.8-2.07 0-2.86zM5.41 20L4 18.59l7.72-7.72 1.47 1.35L5.41 20z\"/>\n",
              "  </svg>\n",
              "      </button>\n",
              "      \n",
              "  <style>\n",
              "    .colab-df-container {\n",
              "      display:flex;\n",
              "      flex-wrap:wrap;\n",
              "      gap: 12px;\n",
              "    }\n",
              "\n",
              "    .colab-df-convert {\n",
              "      background-color: #E8F0FE;\n",
              "      border: none;\n",
              "      border-radius: 50%;\n",
              "      cursor: pointer;\n",
              "      display: none;\n",
              "      fill: #1967D2;\n",
              "      height: 32px;\n",
              "      padding: 0 0 0 0;\n",
              "      width: 32px;\n",
              "    }\n",
              "\n",
              "    .colab-df-convert:hover {\n",
              "      background-color: #E2EBFA;\n",
              "      box-shadow: 0px 1px 2px rgba(60, 64, 67, 0.3), 0px 1px 3px 1px rgba(60, 64, 67, 0.15);\n",
              "      fill: #174EA6;\n",
              "    }\n",
              "\n",
              "    [theme=dark] .colab-df-convert {\n",
              "      background-color: #3B4455;\n",
              "      fill: #D2E3FC;\n",
              "    }\n",
              "\n",
              "    [theme=dark] .colab-df-convert:hover {\n",
              "      background-color: #434B5C;\n",
              "      box-shadow: 0px 1px 3px 1px rgba(0, 0, 0, 0.15);\n",
              "      filter: drop-shadow(0px 1px 2px rgba(0, 0, 0, 0.3));\n",
              "      fill: #FFFFFF;\n",
              "    }\n",
              "  </style>\n",
              "\n",
              "      <script>\n",
              "        const buttonEl =\n",
              "          document.querySelector('#df-cc8d4b0e-76e8-4e9f-a8bc-a626aa1d5415 button.colab-df-convert');\n",
              "        buttonEl.style.display =\n",
              "          google.colab.kernel.accessAllowed ? 'block' : 'none';\n",
              "\n",
              "        async function convertToInteractive(key) {\n",
              "          const element = document.querySelector('#df-cc8d4b0e-76e8-4e9f-a8bc-a626aa1d5415');\n",
              "          const dataTable =\n",
              "            await google.colab.kernel.invokeFunction('convertToInteractive',\n",
              "                                                     [key], {});\n",
              "          if (!dataTable) return;\n",
              "\n",
              "          const docLinkHtml = 'Like what you see? Visit the ' +\n",
              "            '<a target=\"_blank\" href=https://colab.research.google.com/notebooks/data_table.ipynb>data table notebook</a>'\n",
              "            + ' to learn more about interactive tables.';\n",
              "          element.innerHTML = '';\n",
              "          dataTable['output_type'] = 'display_data';\n",
              "          await google.colab.output.renderOutput(dataTable, element);\n",
              "          const docLink = document.createElement('div');\n",
              "          docLink.innerHTML = docLinkHtml;\n",
              "          element.appendChild(docLink);\n",
              "        }\n",
              "      </script>\n",
              "    </div>\n",
              "  </div>\n",
              "  "
            ]
          },
          "metadata": {},
          "execution_count": 27
        }
      ]
    },
    {
      "cell_type": "markdown",
      "source": [
        "## start_day: 可以限制开始日期。默认我设的今年1月1日。格式见我的例子。如果输入的日期是在60个交易日之前那还是会输出近60个交易日数据。"
      ],
      "metadata": {
        "id": "LJQkw8YQ06nT"
      }
    },
    {
      "cell_type": "code",
      "source": [
        "TEST = get_stock('AAPL', start_day = '2022-02-01 00:00:00.000000')"
      ],
      "metadata": {
        "colab": {
          "base_uri": "https://localhost:8080/"
        },
        "id": "zy71Oc7d1JDV",
        "outputId": "bdd1e98c-34a1-433d-cf12-022064943f80"
      },
      "execution_count": null,
      "outputs": [
        {
          "output_type": "stream",
          "name": "stdout",
          "text": [
            "\r[*********************100%***********************]  1 of 1 completed\n"
          ]
        }
      ]
    },
    {
      "cell_type": "code",
      "source": [
        "TEST"
      ],
      "metadata": {
        "colab": {
          "base_uri": "https://localhost:8080/",
          "height": 455
        },
        "id": "5ISFB-aI1UU_",
        "outputId": "739a8fa5-01b1-409e-af1e-6359284ea12f"
      },
      "execution_count": null,
      "outputs": [
        {
          "output_type": "execute_result",
          "data": {
            "text/plain": [
              "                                Close   Adj Close\n",
              "Datetime                                         \n",
              "2022-02-01 09:30:00-05:00  173.600006  173.600006\n",
              "2022-02-01 09:35:00-05:00  173.279999  173.279999\n",
              "2022-02-01 09:40:00-05:00  172.589996  172.589996\n",
              "2022-02-01 09:45:00-05:00  172.701797  172.701797\n",
              "2022-02-01 09:50:00-05:00  172.630005  172.630005\n",
              "...                               ...         ...\n",
              "2022-04-08 15:40:00-04:00  170.680801  170.680801\n",
              "2022-04-08 15:45:00-04:00  170.210007  170.210007\n",
              "2022-04-08 15:50:00-04:00  170.050003  170.050003\n",
              "2022-04-08 15:55:00-04:00  170.139999  170.139999\n",
              "2022-04-08 16:00:00-04:00  170.089996  170.089996\n",
              "\n",
              "[3745 rows x 2 columns]"
            ],
            "text/html": [
              "\n",
              "  <div id=\"df-7a0ea493-24ae-44aa-a12e-e27d61c04aa2\">\n",
              "    <div class=\"colab-df-container\">\n",
              "      <div>\n",
              "<style scoped>\n",
              "    .dataframe tbody tr th:only-of-type {\n",
              "        vertical-align: middle;\n",
              "    }\n",
              "\n",
              "    .dataframe tbody tr th {\n",
              "        vertical-align: top;\n",
              "    }\n",
              "\n",
              "    .dataframe thead th {\n",
              "        text-align: right;\n",
              "    }\n",
              "</style>\n",
              "<table border=\"1\" class=\"dataframe\">\n",
              "  <thead>\n",
              "    <tr style=\"text-align: right;\">\n",
              "      <th></th>\n",
              "      <th>Close</th>\n",
              "      <th>Adj Close</th>\n",
              "    </tr>\n",
              "    <tr>\n",
              "      <th>Datetime</th>\n",
              "      <th></th>\n",
              "      <th></th>\n",
              "    </tr>\n",
              "  </thead>\n",
              "  <tbody>\n",
              "    <tr>\n",
              "      <th>2022-02-01 09:30:00-05:00</th>\n",
              "      <td>173.600006</td>\n",
              "      <td>173.600006</td>\n",
              "    </tr>\n",
              "    <tr>\n",
              "      <th>2022-02-01 09:35:00-05:00</th>\n",
              "      <td>173.279999</td>\n",
              "      <td>173.279999</td>\n",
              "    </tr>\n",
              "    <tr>\n",
              "      <th>2022-02-01 09:40:00-05:00</th>\n",
              "      <td>172.589996</td>\n",
              "      <td>172.589996</td>\n",
              "    </tr>\n",
              "    <tr>\n",
              "      <th>2022-02-01 09:45:00-05:00</th>\n",
              "      <td>172.701797</td>\n",
              "      <td>172.701797</td>\n",
              "    </tr>\n",
              "    <tr>\n",
              "      <th>2022-02-01 09:50:00-05:00</th>\n",
              "      <td>172.630005</td>\n",
              "      <td>172.630005</td>\n",
              "    </tr>\n",
              "    <tr>\n",
              "      <th>...</th>\n",
              "      <td>...</td>\n",
              "      <td>...</td>\n",
              "    </tr>\n",
              "    <tr>\n",
              "      <th>2022-04-08 15:40:00-04:00</th>\n",
              "      <td>170.680801</td>\n",
              "      <td>170.680801</td>\n",
              "    </tr>\n",
              "    <tr>\n",
              "      <th>2022-04-08 15:45:00-04:00</th>\n",
              "      <td>170.210007</td>\n",
              "      <td>170.210007</td>\n",
              "    </tr>\n",
              "    <tr>\n",
              "      <th>2022-04-08 15:50:00-04:00</th>\n",
              "      <td>170.050003</td>\n",
              "      <td>170.050003</td>\n",
              "    </tr>\n",
              "    <tr>\n",
              "      <th>2022-04-08 15:55:00-04:00</th>\n",
              "      <td>170.139999</td>\n",
              "      <td>170.139999</td>\n",
              "    </tr>\n",
              "    <tr>\n",
              "      <th>2022-04-08 16:00:00-04:00</th>\n",
              "      <td>170.089996</td>\n",
              "      <td>170.089996</td>\n",
              "    </tr>\n",
              "  </tbody>\n",
              "</table>\n",
              "<p>3745 rows × 2 columns</p>\n",
              "</div>\n",
              "      <button class=\"colab-df-convert\" onclick=\"convertToInteractive('df-7a0ea493-24ae-44aa-a12e-e27d61c04aa2')\"\n",
              "              title=\"Convert this dataframe to an interactive table.\"\n",
              "              style=\"display:none;\">\n",
              "        \n",
              "  <svg xmlns=\"http://www.w3.org/2000/svg\" height=\"24px\"viewBox=\"0 0 24 24\"\n",
              "       width=\"24px\">\n",
              "    <path d=\"M0 0h24v24H0V0z\" fill=\"none\"/>\n",
              "    <path d=\"M18.56 5.44l.94 2.06.94-2.06 2.06-.94-2.06-.94-.94-2.06-.94 2.06-2.06.94zm-11 1L8.5 8.5l.94-2.06 2.06-.94-2.06-.94L8.5 2.5l-.94 2.06-2.06.94zm10 10l.94 2.06.94-2.06 2.06-.94-2.06-.94-.94-2.06-.94 2.06-2.06.94z\"/><path d=\"M17.41 7.96l-1.37-1.37c-.4-.4-.92-.59-1.43-.59-.52 0-1.04.2-1.43.59L10.3 9.45l-7.72 7.72c-.78.78-.78 2.05 0 2.83L4 21.41c.39.39.9.59 1.41.59.51 0 1.02-.2 1.41-.59l7.78-7.78 2.81-2.81c.8-.78.8-2.07 0-2.86zM5.41 20L4 18.59l7.72-7.72 1.47 1.35L5.41 20z\"/>\n",
              "  </svg>\n",
              "      </button>\n",
              "      \n",
              "  <style>\n",
              "    .colab-df-container {\n",
              "      display:flex;\n",
              "      flex-wrap:wrap;\n",
              "      gap: 12px;\n",
              "    }\n",
              "\n",
              "    .colab-df-convert {\n",
              "      background-color: #E8F0FE;\n",
              "      border: none;\n",
              "      border-radius: 50%;\n",
              "      cursor: pointer;\n",
              "      display: none;\n",
              "      fill: #1967D2;\n",
              "      height: 32px;\n",
              "      padding: 0 0 0 0;\n",
              "      width: 32px;\n",
              "    }\n",
              "\n",
              "    .colab-df-convert:hover {\n",
              "      background-color: #E2EBFA;\n",
              "      box-shadow: 0px 1px 2px rgba(60, 64, 67, 0.3), 0px 1px 3px 1px rgba(60, 64, 67, 0.15);\n",
              "      fill: #174EA6;\n",
              "    }\n",
              "\n",
              "    [theme=dark] .colab-df-convert {\n",
              "      background-color: #3B4455;\n",
              "      fill: #D2E3FC;\n",
              "    }\n",
              "\n",
              "    [theme=dark] .colab-df-convert:hover {\n",
              "      background-color: #434B5C;\n",
              "      box-shadow: 0px 1px 3px 1px rgba(0, 0, 0, 0.15);\n",
              "      filter: drop-shadow(0px 1px 2px rgba(0, 0, 0, 0.3));\n",
              "      fill: #FFFFFF;\n",
              "    }\n",
              "  </style>\n",
              "\n",
              "      <script>\n",
              "        const buttonEl =\n",
              "          document.querySelector('#df-7a0ea493-24ae-44aa-a12e-e27d61c04aa2 button.colab-df-convert');\n",
              "        buttonEl.style.display =\n",
              "          google.colab.kernel.accessAllowed ? 'block' : 'none';\n",
              "\n",
              "        async function convertToInteractive(key) {\n",
              "          const element = document.querySelector('#df-7a0ea493-24ae-44aa-a12e-e27d61c04aa2');\n",
              "          const dataTable =\n",
              "            await google.colab.kernel.invokeFunction('convertToInteractive',\n",
              "                                                     [key], {});\n",
              "          if (!dataTable) return;\n",
              "\n",
              "          const docLinkHtml = 'Like what you see? Visit the ' +\n",
              "            '<a target=\"_blank\" href=https://colab.research.google.com/notebooks/data_table.ipynb>data table notebook</a>'\n",
              "            + ' to learn more about interactive tables.';\n",
              "          element.innerHTML = '';\n",
              "          dataTable['output_type'] = 'display_data';\n",
              "          await google.colab.output.renderOutput(dataTable, element);\n",
              "          const docLink = document.createElement('div');\n",
              "          docLink.innerHTML = docLinkHtml;\n",
              "          element.appendChild(docLink);\n",
              "        }\n",
              "      </script>\n",
              "    </div>\n",
              "  </div>\n",
              "  "
            ]
          },
          "metadata": {},
          "execution_count": 29
        }
      ]
    },
    {
      "cell_type": "markdown",
      "source": [
        "## end_day: 可以限制结尾日期。格式和start_day一样。默认是time now."
      ],
      "metadata": {
        "id": "Bm649zjO1Yxg"
      }
    },
    {
      "cell_type": "code",
      "source": [
        "TEST = get_stock('AAPL', end_day = '2022-04-01 17:00:00.000000')"
      ],
      "metadata": {
        "colab": {
          "base_uri": "https://localhost:8080/"
        },
        "id": "cAf55UT71kih",
        "outputId": "ca572ddd-2720-4705-a223-04752da01d1f"
      },
      "execution_count": null,
      "outputs": [
        {
          "output_type": "stream",
          "name": "stdout",
          "text": [
            "\r[*********************100%***********************]  1 of 1 completed\n"
          ]
        }
      ]
    },
    {
      "cell_type": "code",
      "source": [
        "TEST"
      ],
      "metadata": {
        "id": "IqotcYim1vzE",
        "outputId": "c7a9935c-e52f-4b35-d368-2b6b6cc732d6",
        "colab": {
          "base_uri": "https://localhost:8080/",
          "height": 455
        }
      },
      "execution_count": null,
      "outputs": [
        {
          "output_type": "execute_result",
          "data": {
            "text/plain": [
              "                                Close   Adj Close\n",
              "Datetime                                         \n",
              "2022-01-13 09:30:00-05:00  176.000000  176.000000\n",
              "2022-01-13 09:35:00-05:00  176.360001  176.360001\n",
              "2022-01-13 09:40:00-05:00  176.119995  176.119995\n",
              "2022-01-13 09:45:00-05:00  176.083405  176.083405\n",
              "2022-01-13 09:50:00-05:00  176.009995  176.009995\n",
              "...                               ...         ...\n",
              "2022-04-01 15:35:00-04:00  172.979996  172.979996\n",
              "2022-04-01 15:40:00-04:00  172.889999  172.889999\n",
              "2022-04-01 15:45:00-04:00  173.065002  173.065002\n",
              "2022-04-01 15:50:00-04:00  174.279999  174.279999\n",
              "2022-04-01 15:55:00-04:00  174.259995  174.259995\n",
              "\n",
              "[4290 rows x 2 columns]"
            ],
            "text/html": [
              "\n",
              "  <div id=\"df-afb276d6-b9dd-4795-aef7-29f16b62ff76\">\n",
              "    <div class=\"colab-df-container\">\n",
              "      <div>\n",
              "<style scoped>\n",
              "    .dataframe tbody tr th:only-of-type {\n",
              "        vertical-align: middle;\n",
              "    }\n",
              "\n",
              "    .dataframe tbody tr th {\n",
              "        vertical-align: top;\n",
              "    }\n",
              "\n",
              "    .dataframe thead th {\n",
              "        text-align: right;\n",
              "    }\n",
              "</style>\n",
              "<table border=\"1\" class=\"dataframe\">\n",
              "  <thead>\n",
              "    <tr style=\"text-align: right;\">\n",
              "      <th></th>\n",
              "      <th>Close</th>\n",
              "      <th>Adj Close</th>\n",
              "    </tr>\n",
              "    <tr>\n",
              "      <th>Datetime</th>\n",
              "      <th></th>\n",
              "      <th></th>\n",
              "    </tr>\n",
              "  </thead>\n",
              "  <tbody>\n",
              "    <tr>\n",
              "      <th>2022-01-13 09:30:00-05:00</th>\n",
              "      <td>176.000000</td>\n",
              "      <td>176.000000</td>\n",
              "    </tr>\n",
              "    <tr>\n",
              "      <th>2022-01-13 09:35:00-05:00</th>\n",
              "      <td>176.360001</td>\n",
              "      <td>176.360001</td>\n",
              "    </tr>\n",
              "    <tr>\n",
              "      <th>2022-01-13 09:40:00-05:00</th>\n",
              "      <td>176.119995</td>\n",
              "      <td>176.119995</td>\n",
              "    </tr>\n",
              "    <tr>\n",
              "      <th>2022-01-13 09:45:00-05:00</th>\n",
              "      <td>176.083405</td>\n",
              "      <td>176.083405</td>\n",
              "    </tr>\n",
              "    <tr>\n",
              "      <th>2022-01-13 09:50:00-05:00</th>\n",
              "      <td>176.009995</td>\n",
              "      <td>176.009995</td>\n",
              "    </tr>\n",
              "    <tr>\n",
              "      <th>...</th>\n",
              "      <td>...</td>\n",
              "      <td>...</td>\n",
              "    </tr>\n",
              "    <tr>\n",
              "      <th>2022-04-01 15:35:00-04:00</th>\n",
              "      <td>172.979996</td>\n",
              "      <td>172.979996</td>\n",
              "    </tr>\n",
              "    <tr>\n",
              "      <th>2022-04-01 15:40:00-04:00</th>\n",
              "      <td>172.889999</td>\n",
              "      <td>172.889999</td>\n",
              "    </tr>\n",
              "    <tr>\n",
              "      <th>2022-04-01 15:45:00-04:00</th>\n",
              "      <td>173.065002</td>\n",
              "      <td>173.065002</td>\n",
              "    </tr>\n",
              "    <tr>\n",
              "      <th>2022-04-01 15:50:00-04:00</th>\n",
              "      <td>174.279999</td>\n",
              "      <td>174.279999</td>\n",
              "    </tr>\n",
              "    <tr>\n",
              "      <th>2022-04-01 15:55:00-04:00</th>\n",
              "      <td>174.259995</td>\n",
              "      <td>174.259995</td>\n",
              "    </tr>\n",
              "  </tbody>\n",
              "</table>\n",
              "<p>4290 rows × 2 columns</p>\n",
              "</div>\n",
              "      <button class=\"colab-df-convert\" onclick=\"convertToInteractive('df-afb276d6-b9dd-4795-aef7-29f16b62ff76')\"\n",
              "              title=\"Convert this dataframe to an interactive table.\"\n",
              "              style=\"display:none;\">\n",
              "        \n",
              "  <svg xmlns=\"http://www.w3.org/2000/svg\" height=\"24px\"viewBox=\"0 0 24 24\"\n",
              "       width=\"24px\">\n",
              "    <path d=\"M0 0h24v24H0V0z\" fill=\"none\"/>\n",
              "    <path d=\"M18.56 5.44l.94 2.06.94-2.06 2.06-.94-2.06-.94-.94-2.06-.94 2.06-2.06.94zm-11 1L8.5 8.5l.94-2.06 2.06-.94-2.06-.94L8.5 2.5l-.94 2.06-2.06.94zm10 10l.94 2.06.94-2.06 2.06-.94-2.06-.94-.94-2.06-.94 2.06-2.06.94z\"/><path d=\"M17.41 7.96l-1.37-1.37c-.4-.4-.92-.59-1.43-.59-.52 0-1.04.2-1.43.59L10.3 9.45l-7.72 7.72c-.78.78-.78 2.05 0 2.83L4 21.41c.39.39.9.59 1.41.59.51 0 1.02-.2 1.41-.59l7.78-7.78 2.81-2.81c.8-.78.8-2.07 0-2.86zM5.41 20L4 18.59l7.72-7.72 1.47 1.35L5.41 20z\"/>\n",
              "  </svg>\n",
              "      </button>\n",
              "      \n",
              "  <style>\n",
              "    .colab-df-container {\n",
              "      display:flex;\n",
              "      flex-wrap:wrap;\n",
              "      gap: 12px;\n",
              "    }\n",
              "\n",
              "    .colab-df-convert {\n",
              "      background-color: #E8F0FE;\n",
              "      border: none;\n",
              "      border-radius: 50%;\n",
              "      cursor: pointer;\n",
              "      display: none;\n",
              "      fill: #1967D2;\n",
              "      height: 32px;\n",
              "      padding: 0 0 0 0;\n",
              "      width: 32px;\n",
              "    }\n",
              "\n",
              "    .colab-df-convert:hover {\n",
              "      background-color: #E2EBFA;\n",
              "      box-shadow: 0px 1px 2px rgba(60, 64, 67, 0.3), 0px 1px 3px 1px rgba(60, 64, 67, 0.15);\n",
              "      fill: #174EA6;\n",
              "    }\n",
              "\n",
              "    [theme=dark] .colab-df-convert {\n",
              "      background-color: #3B4455;\n",
              "      fill: #D2E3FC;\n",
              "    }\n",
              "\n",
              "    [theme=dark] .colab-df-convert:hover {\n",
              "      background-color: #434B5C;\n",
              "      box-shadow: 0px 1px 3px 1px rgba(0, 0, 0, 0.15);\n",
              "      filter: drop-shadow(0px 1px 2px rgba(0, 0, 0, 0.3));\n",
              "      fill: #FFFFFF;\n",
              "    }\n",
              "  </style>\n",
              "\n",
              "      <script>\n",
              "        const buttonEl =\n",
              "          document.querySelector('#df-afb276d6-b9dd-4795-aef7-29f16b62ff76 button.colab-df-convert');\n",
              "        buttonEl.style.display =\n",
              "          google.colab.kernel.accessAllowed ? 'block' : 'none';\n",
              "\n",
              "        async function convertToInteractive(key) {\n",
              "          const element = document.querySelector('#df-afb276d6-b9dd-4795-aef7-29f16b62ff76');\n",
              "          const dataTable =\n",
              "            await google.colab.kernel.invokeFunction('convertToInteractive',\n",
              "                                                     [key], {});\n",
              "          if (!dataTable) return;\n",
              "\n",
              "          const docLinkHtml = 'Like what you see? Visit the ' +\n",
              "            '<a target=\"_blank\" href=https://colab.research.google.com/notebooks/data_table.ipynb>data table notebook</a>'\n",
              "            + ' to learn more about interactive tables.';\n",
              "          element.innerHTML = '';\n",
              "          dataTable['output_type'] = 'display_data';\n",
              "          await google.colab.output.renderOutput(dataTable, element);\n",
              "          const docLink = document.createElement('div');\n",
              "          docLink.innerHTML = docLinkHtml;\n",
              "          element.appendChild(docLink);\n",
              "        }\n",
              "      </script>\n",
              "    </div>\n",
              "  </div>\n",
              "  "
            ]
          },
          "metadata": {},
          "execution_count": 32
        }
      ]
    }
  ]
}